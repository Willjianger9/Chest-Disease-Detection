{
 "cells": [
  {
   "cell_type": "markdown",
   "metadata": {
    "id": "zKmFmyaGunc7"
   },
   "source": [
    "# Import Libraries and Dataset"
   ]
  },
  {
   "cell_type": "code",
   "execution_count": null,
   "metadata": {},
   "outputs": [],
   "source": [
    "pip install --upgrade certifi"
   ]
  },
  {
   "cell_type": "code",
   "execution_count": null,
   "metadata": {},
   "outputs": [],
   "source": [
    "!pip install tensorflow"
   ]
  },
  {
   "cell_type": "code",
   "execution_count": null,
   "metadata": {
    "id": "S0Cx3743urFY"
   },
   "outputs": [],
   "source": [
    "import os\n",
    "# import cv2\n",
    "import tensorflow as tf\n",
    "import numpy as np\n",
    "from tensorflow.keras import layers, optimizers\n",
    "from tensorflow.keras.applications.resnet50 import ResNet50\n",
    "from tensorflow.keras.layers import Input, Add, Dense, Activation, ZeroPadding2D, BatchNormalization, Flatten, Conv2D, AveragePooling2D, MaxPooling2D, Dropout\n",
    "from tensorflow.keras.models import Model, load_model\n",
    "from tensorflow.keras import backend as K\n",
    "from tensorflow.keras.preprocessing.image import ImageDataGenerator\n",
    "from tensorflow.keras.callbacks import ReduceLROnPlateau, EarlyStopping, ModelCheckpoint, LearningRateScheduler\n",
    "import matplotlib.pyplot as plt\n",
    "import seaborn as sns\n",
    "import pandas as pd"
   ]
  },
  {
   "cell_type": "code",
   "execution_count": null,
   "metadata": {},
   "outputs": [],
   "source": [
    "cd /Users/xunhongjiang/Documents/GitHub/Chest-Disease-Detection"
   ]
  },
  {
   "cell_type": "code",
   "execution_count": null,
   "metadata": {
    "id": "tjIiJdM4u1IE"
   },
   "outputs": [],
   "source": [
    "# Specify training data directory\n",
    "XRay_Directory = 'Notebook/Chest_X_Ray/train'"
   ]
  },
  {
   "cell_type": "code",
   "execution_count": null,
   "metadata": {
    "colab": {
     "base_uri": "https://localhost:8080/"
    },
    "id": "GZFbo0iCAeNe",
    "outputId": "0fcc2f29-17c2-4b84-f1c3-7a2ce8c9b2db"
   },
   "outputs": [],
   "source": [
    "# List the folders in the directory\n",
    "os.listdir(XRay_Directory)"
   ]
  },
  {
   "cell_type": "code",
   "execution_count": null,
   "metadata": {
    "id": "k0RtXNn-9uWC"
   },
   "outputs": [],
   "source": [
    "# Use image generator to generate tensor images data and normalize them\n",
    "# Use 20% of the data for cross-validation  \n",
    "image_generator = ImageDataGenerator(rescale = 1./255, validation_split=0.2)"
   ]
  },
  {
   "cell_type": "code",
   "execution_count": null,
   "metadata": {
    "colab": {
     "base_uri": "https://localhost:8080/"
    },
    "id": "NnGV7yqd9ufD",
    "outputId": "4d7aba1f-b8ec-4c1f-e20d-7d2c170c03dd"
   },
   "outputs": [],
   "source": [
    "# Generate batches of 40 images\n",
    "# Total number of images is 133*4 = 532 images\n",
    "# Training is 428 (80%) and validation is 104 (20%)\n",
    "# Perform shuffling and image resizing\n",
    "\n",
    "train_generator = image_generator.flow_from_directory(batch_size = 40, directory = XRay_Directory, shuffle = True, target_size = (256,256), class_mode = 'categorical', subset = \"training\")"
   ]
  },
  {
   "cell_type": "code",
   "execution_count": null,
   "metadata": {
    "colab": {
     "base_uri": "https://localhost:8080/"
    },
    "id": "KgoOjMDTUShI",
    "outputId": "057137d7-1c2b-4149-9333-50049d38c596"
   },
   "outputs": [],
   "source": [
    "validation_generator = image_generator.flow_from_directory(batch_size = 40,\n",
    "                                                           directory = XRay_Directory, \n",
    "                                                           shuffle = True, \n",
    "                                                           target_size = (256,256), \n",
    "                                                           class_mode = 'categorical', \n",
    "                                                           subset = \"validation\")\n"
   ]
  },
  {
   "cell_type": "code",
   "execution_count": null,
   "metadata": {
    "id": "8lQchBKuFjaT"
   },
   "outputs": [],
   "source": [
    "# Generate a batch of 40 images and labels\n",
    "!pip install pillow\n",
    "train_images, train_labels = next(train_generator)\n"
   ]
  },
  {
   "cell_type": "code",
   "execution_count": null,
   "metadata": {
    "colab": {
     "base_uri": "https://localhost:8080/"
    },
    "id": "-AFP2kTJYvmm",
    "outputId": "98dbd334-aaaa-452c-ed6e-6bdea3e8260e"
   },
   "outputs": [],
   "source": [
    "train_labels"
   ]
  },
  {
   "cell_type": "code",
   "execution_count": null,
   "metadata": {
    "id": "E5U_27s8F8rr"
   },
   "outputs": [],
   "source": [
    "# labels Translator \n",
    "label_names = {0 : 'Covid-19', 1 : 'Normal' , 2: 'Viral Pneumonia', 3 : 'Bacterial Pneumonia'}"
   ]
  },
  {
   "cell_type": "markdown",
   "metadata": {
    "id": "LlszUhNNyrl_"
   },
   "source": [
    "# Data Visualization"
   ]
  },
  {
   "cell_type": "code",
   "execution_count": null,
   "metadata": {
    "colab": {
     "base_uri": "https://localhost:8080/",
     "height": 685
    },
    "id": "olZZy0KbGQrz",
    "outputId": "af19669c-199e-430f-c60e-525870097bdb",
    "scrolled": false
   },
   "outputs": [],
   "source": [
    "# Create a grid of 16 images along with their corresponding labels\n",
    "L = 4\n",
    "W = 4\n",
    "\n",
    "fig, axes = plt.subplots(L, W, figsize=(12, 12))\n",
    "axes = axes.ravel()\n",
    "\n",
    "for i in np.arange(0, L*W):\n",
    "    axes[i].imshow(train_images[i])\n",
    "    axes[i].set_title(label_names[np.argmax(train_labels[i])])\n",
    "    axes[i].axis('off')  # Turn off the axis labels\n",
    "\n",
    "plt.subplots_adjust(wspace=0.5)\n"
   ]
  },
  {
   "cell_type": "markdown",
   "metadata": {
    "id": "Y0GmpAjG3GiH"
   },
   "source": [
    "# Import Model with Pretrained Weights"
   ]
  },
  {
   "cell_type": "code",
   "execution_count": null,
   "metadata": {
    "colab": {
     "base_uri": "https://localhost:8080/"
    },
    "id": "f3af8n0yK5J4",
    "outputId": "8f07be99-8cf3-4f3e-bccc-58b474e03447"
   },
   "outputs": [],
   "source": [
    "basemodel = ResNet50(weights='/Users/xunhongjiang/Documents/GitHub/Chest-Disease-Detection/resnet50_weights_tf_dim_ordering_tf_kernels_notop.h5', include_top = False, input_tensor = Input(shape = (256, 256, 3)))"
   ]
  },
  {
   "cell_type": "code",
   "execution_count": null,
   "metadata": {
    "colab": {
     "base_uri": "https://localhost:8080/"
    },
    "id": "_22VrBeYK5MQ",
    "outputId": "658f0ca4-df80-4731-ae42-f993d898bab8",
    "scrolled": true
   },
   "outputs": [],
   "source": [
    "basemodel.summary()"
   ]
  },
  {
   "cell_type": "code",
   "execution_count": null,
   "metadata": {
    "id": "FIPKDIgCK8G5"
   },
   "outputs": [],
   "source": [
    "#freezing the model upto the last stage - 4 and re-training stage -5 \n",
    "\n",
    "for layer in basemodel.layers[:-10]:\n",
    "  layers.trainable = False"
   ]
  },
  {
   "cell_type": "markdown",
   "metadata": {
    "id": "FPAuxlN6ZnrF"
   },
   "source": [
    "# Train Resnet Model with New Datasets"
   ]
  },
  {
   "cell_type": "code",
   "execution_count": null,
   "metadata": {
    "id": "qfa8I1SBK82d"
   },
   "outputs": [],
   "source": [
    "headmodel = basemodel.output\n",
    "headmodel = AveragePooling2D(pool_size = (4,4))(headmodel)\n",
    "headmodel = Flatten(name = 'flatten')(headmodel)\n",
    "headmodel = Dense(256, activation = 'relu')(headmodel)\n",
    "headmodel = Dropout(0.3)(headmodel)\n",
    "headmodel = Dense(212856, activation = 'relu')(headmodel)\n",
    "headmodel = Dropout(0.2)(headmodel)\n",
    "\n",
    "headmodel = Dense(4, activation = 'softmax')(headmodel)\n",
    "\n",
    "model = Model(inputs = basemodel.input, outputs = headmodel)"
   ]
  },
  {
   "cell_type": "code",
   "execution_count": null,
   "metadata": {},
   "outputs": [],
   "source": [
    "model.summary()"
   ]
  },
  {
   "cell_type": "code",
   "execution_count": null,
   "metadata": {
    "id": "o_5nSJxDLANF"
   },
   "outputs": [],
   "source": [
    "from tensorflow.keras.optimizers import RMSprop\n",
    "\n",
    "model.compile(\n",
    "    loss='categorical_crossentropy',\n",
    "    optimizer=RMSprop(learning_rate=1e-4, decay=1e-6),\n",
    "    metrics=['accuracy']\n",
    ")\n"
   ]
  },
  {
   "cell_type": "code",
   "execution_count": null,
   "metadata": {
    "id": "p_QL4lTXLDv1"
   },
   "outputs": [],
   "source": [
    "from tensorflow.keras.callbacks import EarlyStopping, ModelCheckpoint\n",
    "\n",
    "# using early stopping to exit training if validation loss is not decreasing even after certain epochs (patience)\n",
    "earlystopping = EarlyStopping(monitor='val_loss', mode='min', verbose=1, patience=20)\n",
    "\n",
    "# save the best model with lower validation loss\n",
    "checkpointer = ModelCheckpoint(filepath=\"weights.keras\", verbose=1, save_best_only=True)\n"
   ]
  },
  {
   "cell_type": "code",
   "execution_count": null,
   "metadata": {
    "colab": {
     "base_uri": "https://localhost:8080/"
    },
    "id": "jSqp1_-sWspT",
    "outputId": "9508bba0-530e-4a92-db83-19b85d646f9e"
   },
   "outputs": [],
   "source": [
    "train_generator = image_generator.flow_from_directory(batch_size = 4, directory= XRay_Directory, shuffle= True, target_size=(256,256), class_mode= 'categorical', subset=\"training\")\n",
    "val_generator = image_generator.flow_from_directory(batch_size = 4, directory= XRay_Directory, shuffle= True, target_size=(256,256), class_mode= 'categorical', subset=\"validation\")"
   ]
  },
  {
   "cell_type": "code",
   "execution_count": null,
   "metadata": {
    "colab": {
     "base_uri": "https://localhost:8080/"
    },
    "id": "VplEbBNmLF7I",
    "outputId": "f4ae6b95-661c-4f6c-d947-d1db6f6d3aa4"
   },
   "outputs": [],
   "source": [
    "history = model.fit(train_generator, steps_per_epoch= train_generator.n // 4, epochs = 50, validation_data= val_generator, validation_steps= val_generator.n // 4, callbacks=[checkpointer, earlystopping])"
   ]
  },
  {
   "cell_type": "code",
   "execution_count": null,
   "metadata": {},
   "outputs": [],
   "source": [
    "# serialize model to JSON\n",
    "model_json = model.to_json()\n",
    "with open(\"model.json\", \"w\") as json_file:\n",
    "    json_file.write(model_json)\n",
    "# serialize weights to HDF5\n",
    "model.save_weights(\"model.h5\")\n",
    "print(\"Saved model to disk\")"
   ]
  },
  {
   "cell_type": "code",
   "execution_count": null,
   "metadata": {},
   "outputs": [],
   "source": [
    "# load json and create model\n",
    "\n",
    "from tensorflow.keras.models import model_from_json\n",
    "\n",
    "json_file = open('model.json', 'r')\n",
    "loaded_model_json = json_file.read()\n",
    "json_file.close()\n",
    "model = model_from_json(loaded_model_json)\n",
    "# load weights into new model\n",
    "model.load_weights(\"model.h5\")\n",
    "print(\"Loaded model from disk\")\n"
   ]
  },
  {
   "cell_type": "markdown",
   "metadata": {
    "id": "53qDZFRn3-S1"
   },
   "source": [
    "# Evaluate Trained Deep Learning Model"
   ]
  },
  {
   "cell_type": "code",
   "execution_count": null,
   "metadata": {},
   "outputs": [],
   "source": [
    "#compile the model\n",
    "from tensorflow.keras.optimizers import legacy\n",
    "\n",
    "model.compile(\n",
    "    optimizer=legacy.RMSprop(learning_rate=0.0001, decay=1e-6),\n",
    "    loss='categorical_crossentropy',\n",
    "    metrics=['accuracy']\n",
    ")"
   ]
  },
  {
   "cell_type": "code",
   "execution_count": null,
   "metadata": {
    "id": "6DmEMEsua_56"
   },
   "outputs": [],
   "source": [
    "test_directory = '/Users/xunhongjiang/Desktop/2 - personal/Chest Disease Detection/Notebook/Chest_X_Ray/Test'\n"
   ]
  },
  {
   "cell_type": "code",
   "execution_count": null,
   "metadata": {
    "colab": {
     "base_uri": "https://localhost:8080/",
     "height": 138
    },
    "id": "06gdW-KJbFIo",
    "outputId": "7a6f3e16-4942-4a3d-b521-6deb53e3ad7f"
   },
   "outputs": [],
   "source": [
    "test_gen = ImageDataGenerator(rescale = 1./255)\n",
    "\n",
    "test_generator = test_gen.flow_from_directory(batch_size = 40, directory= test_directory, shuffle= True, target_size=(256,256), class_mode= 'categorical')\n",
    "\n",
    "evaluate = model.evaluate_generator(test_generator, steps = test_generator.n // 4, verbose =1)\n",
    "\n",
    "print('Accuracy Test : {}'.format(evaluate[1]))"
   ]
  },
  {
   "cell_type": "code",
   "execution_count": null,
   "metadata": {},
   "outputs": [],
   "source": [
    "!pip install opencv-python"
   ]
  },
  {
   "cell_type": "code",
   "execution_count": null,
   "metadata": {
    "id": "cOGsNy5PbpE2"
   },
   "outputs": [],
   "source": [
    "from sklearn.metrics import confusion_matrix, classification_report, accuracy_score\n",
    "import cv2\n",
    "prediction = []\n",
    "original = []\n",
    "image = []\n",
    "\n",
    "for i in range(len(os.listdir(test_directory))):\n",
    "  for item in os.listdir(os.path.join(test_directory,str(i))):\n",
    "    img= cv2.imread(os.path.join(test_directory,str(i),item))\n",
    "    img = cv2.resize(img,(256,256))\n",
    "    image.append(img)\n",
    "    img = img / 255\n",
    "    img = img.reshape(-1,256,256,3)\n",
    "    predict = model.predict(img)\n",
    "    predict = np.argmax(predict)\n",
    "    prediction.append(predict)\n",
    "    original.append(i)"
   ]
  },
  {
   "cell_type": "code",
   "execution_count": null,
   "metadata": {
    "colab": {
     "base_uri": "https://localhost:8080/",
     "height": 34
    },
    "id": "EIPjNOm4ZOU3",
    "outputId": "d5424493-1fd5-4fee-e29f-9559cd999a59"
   },
   "outputs": [],
   "source": [
    "len(original)"
   ]
  },
  {
   "cell_type": "code",
   "execution_count": null,
   "metadata": {
    "colab": {
     "base_uri": "https://localhost:8080/",
     "height": 34
    },
    "id": "HuHlUhSHdJF3",
    "outputId": "f7948c9e-31aa-4d2b-bdc2-6e16346ef403"
   },
   "outputs": [],
   "source": [
    "score = accuracy_score(original,prediction)\n",
    "print(\"Test Accuracy : {}\".format(score))"
   ]
  },
  {
   "cell_type": "code",
   "execution_count": null,
   "metadata": {
    "colab": {
     "base_uri": "https://localhost:8080/",
     "height": 670
    },
    "id": "HAXuRyhvdXEX",
    "outputId": "4e4d363c-9b53-46c5-a3b6-b4b1d858ce00"
   },
   "outputs": [],
   "source": [
    "L = 5\n",
    "W = 5\n",
    "\n",
    "fig, axes = plt.subplots(L, W, figsize = (12, 12))\n",
    "axes = axes.ravel()\n",
    "\n",
    "for i in np.arange(0, L*W):\n",
    "    axes[i].imshow(image[i])\n",
    "    axes[i].set_title('Guess={}\\nTrue={}'.format(str(label_names[prediction[i]]), str(label_names[original[i]])))\n",
    "    axes[i].axis('off')\n",
    "\n",
    "plt.subplots_adjust(wspace = 1.2) "
   ]
  },
  {
   "cell_type": "code",
   "execution_count": null,
   "metadata": {
    "colab": {
     "base_uri": "https://localhost:8080/",
     "height": 202
    },
    "id": "MkoN6f_Yg7wT",
    "outputId": "90a72576-e3e1-4825-d50e-9b9d0986b836"
   },
   "outputs": [],
   "source": [
    "print(classification_report(np.asarray(original), np.asarray(prediction)))"
   ]
  },
  {
   "cell_type": "code",
   "execution_count": null,
   "metadata": {
    "colab": {
     "base_uri": "https://localhost:8080/",
     "height": 312
    },
    "id": "5d4zcFimg-al",
    "outputId": "b1b2c7af-6f52-4b74-f5b0-85751fa4731e"
   },
   "outputs": [],
   "source": [
    "cm = confusion_matrix(np.asarray(original), np.asarray(prediction))\n",
    "ax = plt.subplot()\n",
    "sns.heatmap(cm, annot = True, ax = ax)\n",
    "\n",
    "ax.set_xlabel('Predicted')\n",
    "ax.set_ylabel('Original')\n",
    "ax.set_title('Confusion_matrix')"
   ]
  }
 ],
 "metadata": {
  "accelerator": "GPU",
  "colab": {
   "collapsed_sections": [],
   "name": "Operations Department Solution",
   "provenance": []
  },
  "kernelspec": {
   "display_name": "Python 3",
   "language": "python",
   "name": "python3"
  },
  "language_info": {
   "codemirror_mode": {
    "name": "ipython",
    "version": 3
   },
   "file_extension": ".py",
   "mimetype": "text/x-python",
   "name": "python",
   "nbconvert_exporter": "python",
   "pygments_lexer": "ipython3",
   "version": "3.12.2"
  }
 },
 "nbformat": 4,
 "nbformat_minor": 1
}
